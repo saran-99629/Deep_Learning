{
 "cells": [
  {
   "cell_type": "code",
   "execution_count": 19,
   "metadata": {},
   "outputs": [
    {
     "name": "stdout",
     "output_type": "stream",
     "text": [
      "[1 2]\n",
      "[1 2]\n",
      "[3 4]\n",
      "[3 4]\n"
     ]
    }
   ],
   "source": [
    "\n",
    "import numpy as np \n",
    "a=[]\n",
    "# for i in range(0,6):\n",
    "#     a.append(int(input('value=')))\n",
    "ar = np.array([\n",
    "    [1,2],\n",
    "    [3,4]\n",
    "])\n",
    "for i in ar:\n",
    "    for x in i:\n",
    "        print(x)"
   ]
  }
 ],
 "metadata": {
  "kernelspec": {
   "display_name": "Python 3",
   "language": "python",
   "name": "python3"
  },
  "language_info": {
   "codemirror_mode": {
    "name": "ipython",
    "version": 3
   },
   "file_extension": ".py",
   "mimetype": "text/x-python",
   "name": "python",
   "nbconvert_exporter": "python",
   "pygments_lexer": "ipython3",
   "version": "3.9.0"
  }
 },
 "nbformat": 4,
 "nbformat_minor": 2
}
